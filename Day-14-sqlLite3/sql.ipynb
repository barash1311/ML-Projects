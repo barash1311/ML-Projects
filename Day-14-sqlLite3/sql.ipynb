{
 "cells": [
  {
   "cell_type": "code",
   "execution_count": 1,
   "metadata": {},
   "outputs": [],
   "source": [
    "import sqlite3"
   ]
  },
  {
   "cell_type": "code",
   "execution_count": 3,
   "metadata": {},
   "outputs": [
    {
     "data": {
      "text/plain": [
       "<sqlite3.Connection at 0x1d721ff4c70>"
      ]
     },
     "execution_count": 3,
     "metadata": {},
     "output_type": "execute_result"
    }
   ],
   "source": [
    "#connect to an sqlite database\n",
    "connection=sqlite3.connect(\"example.db\")\n",
    "connection"
   ]
  },
  {
   "cell_type": "code",
   "execution_count": 4,
   "metadata": {},
   "outputs": [],
   "source": [
    "cursor=connection.cursor()"
   ]
  },
  {
   "cell_type": "code",
   "execution_count": 9,
   "metadata": {},
   "outputs": [],
   "source": [
    "### create a table\n",
    "cursor.execute('''\n",
    "Create table if not exists employee(\n",
    "    id INT Primary key,\n",
    "    name varchar not null,\n",
    "    age INT,\n",
    "    department text\n",
    "    )\n",
    "''')\n",
    "##commit\n",
    "connection.commit()"
   ]
  },
  {
   "cell_type": "code",
   "execution_count": 14,
   "metadata": {},
   "outputs": [
    {
     "data": {
      "text/plain": [
       "<sqlite3.Cursor at 0x1d7221f5dc0>"
      ]
     },
     "execution_count": 14,
     "metadata": {},
     "output_type": "execute_result"
    }
   ],
   "source": [
    "cursor.execute('''\n",
    "    select * from employee\n",
    "''')"
   ]
  },
  {
   "cell_type": "code",
   "execution_count": 21,
   "metadata": {},
   "outputs": [],
   "source": [
    "## insert data in sql\n",
    "cursor.execute('''\n",
    "    INSERT INTO employee(name,age,department)\n",
    "    values (\"barash\",32,\"student\") \n",
    "''')\n",
    "connection.commit()\n"
   ]
  },
  {
   "cell_type": "code",
   "execution_count": 23,
   "metadata": {},
   "outputs": [],
   "source": [
    "cursor.execute('''\n",
    "    select * from employee\n",
    "''')\n",
    "connection.commit()"
   ]
  },
  {
   "cell_type": "code",
   "execution_count": 26,
   "metadata": {},
   "outputs": [
    {
     "name": "stdout",
     "output_type": "stream",
     "text": [
      "(None, 'barash', 32, 'student')\n",
      "(None, 'barash', 32, 'student')\n"
     ]
    }
   ],
   "source": [
    "cursor.execute(\"select * from employee\")\n",
    "rows=cursor.fetchall()\n",
    "for row in  rows:\n",
    "    print(row)"
   ]
  },
  {
   "cell_type": "code",
   "execution_count": 27,
   "metadata": {},
   "outputs": [],
   "source": [
    "## upate the data in table\n",
    "cursor.execute('''\n",
    "    update employee set age=34\n",
    "    where name=\"barash\"\n",
    "''')\n",
    "connection.commit()"
   ]
  },
  {
   "cell_type": "code",
   "execution_count": 29,
   "metadata": {},
   "outputs": [
    {
     "name": "stdout",
     "output_type": "stream",
     "text": [
      "(None, 'barash', 34, 'student')\n",
      "(None, 'barash', 34, 'student')\n"
     ]
    }
   ],
   "source": [
    "cursor.execute(\"select * from employee\")\n",
    "rows=cursor.fetchall()\n",
    "for row in rows:\n",
    "    print(row)"
   ]
  },
  {
   "cell_type": "code",
   "execution_count": 30,
   "metadata": {},
   "outputs": [],
   "source": [
    "cursor.execute('''\n",
    "    delete from employee \n",
    "    where name=\"barash\"        \n",
    "''')\n",
    "connection.commit()\n",
    "cursor.execute(\"select * from employee\")\n",
    "rows=cursor.fetchall()\n",
    "for row in  rows:\n",
    "    print(row)"
   ]
  },
  {
   "cell_type": "code",
   "execution_count": 31,
   "metadata": {},
   "outputs": [],
   "source": [
    "cursor.execute(\"select * from employee\")\n",
    "rows=cursor.fetchall()\n",
    "for row in  rows:\n",
    "    print(row)"
   ]
  },
  {
   "cell_type": "code",
   "execution_count": 44,
   "metadata": {},
   "outputs": [],
   "source": [
    "## working with sales data\n",
    "connection=sqlite3.connect(\"sales_data.db\")\n",
    "cursor=connection.cursor()\n",
    "##create a table\n",
    "cursor.execute('''\n",
    "create table if not exists sales(\n",
    "    id int primary key,\n",
    "    date text not null,\n",
    "    product text not null,\n",
    "    sales integer,\n",
    "    region text\n",
    ")\n",
    "''')\n",
    "## insert some data\n",
    "sales_data=[\n",
    "    (\"2023-01-01\",\"product-1\",100,\"north\"),\n",
    "    (\"2023-02-01\",\"product-2\",140,\"south\"),\n",
    "    (\"2023-03-01\",\"product-3\",160,\"west\"),\n",
    "    (\"2023-02-01\",\"product-4\",180,\"east\"),\n",
    "    (\"2023-01-01\",\"product-5\",190,\"north\"),\n",
    "]\n",
    "\n",
    "cursor.executemany('''\n",
    "                   Insert into sales(date,product,sales,region) values(?,?,?,?)''',sales_data)\n",
    "connection.commit()"
   ]
  },
  {
   "cell_type": "code",
   "execution_count": 45,
   "metadata": {},
   "outputs": [
    {
     "name": "stdout",
     "output_type": "stream",
     "text": [
      "(None, '2023-01-01', 'product-1', 100, 'north')\n",
      "(None, '2023-02-01', 'product-2', 140, 'south')\n",
      "(None, '2023-03-01', 'product-3', 160, 'west')\n",
      "(None, '2023-02-01', 'product-4', 180, 'east')\n",
      "(None, '2023-01-01', 'product-5', 190, 'north')\n"
     ]
    }
   ],
   "source": [
    "cursor.execute(\"select * from sales\")\n",
    "rows=cursor.fetchall()\n",
    "for row in rows:\n",
    "    print(row)"
   ]
  },
  {
   "cell_type": "code",
   "execution_count": 46,
   "metadata": {},
   "outputs": [],
   "source": [
    "connection.close()"
   ]
  },
  {
   "cell_type": "code",
   "execution_count": null,
   "metadata": {},
   "outputs": [],
   "source": []
  }
 ],
 "metadata": {
  "kernelspec": {
   "display_name": "Python 3",
   "language": "python",
   "name": "python3"
  },
  "language_info": {
   "codemirror_mode": {
    "name": "ipython",
    "version": 3
   },
   "file_extension": ".py",
   "mimetype": "text/x-python",
   "name": "python",
   "nbconvert_exporter": "python",
   "pygments_lexer": "ipython3",
   "version": "3.12.0"
  }
 },
 "nbformat": 4,
 "nbformat_minor": 2
}
