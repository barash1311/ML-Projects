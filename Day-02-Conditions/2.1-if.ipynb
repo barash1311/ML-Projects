{
 "cells": [
  {
   "cell_type": "markdown",
   "metadata": {},
   "source": [
    "## IF STATEMENT"
   ]
  },
  {
   "cell_type": "code",
   "execution_count": 1,
   "metadata": {},
   "outputs": [
    {
     "name": "stdout",
     "output_type": "stream",
     "text": [
      "you are allowed to vote in the election\n"
     ]
    }
   ],
   "source": [
    "## if statement\n",
    "age=20\n",
    "if age>=20:\n",
    "    print(\"you are allowed to vote in the election\")\n"
   ]
  },
  {
   "cell_type": "code",
   "execution_count": 2,
   "metadata": {},
   "outputs": [
    {
     "data": {
      "text/plain": [
       "True"
      ]
     },
     "execution_count": 2,
     "metadata": {},
     "output_type": "execute_result"
    }
   ],
   "source": [
    "age>=18"
   ]
  },
  {
   "cell_type": "code",
   "execution_count": 5,
   "metadata": {},
   "outputs": [
    {
     "name": "stdout",
     "output_type": "stream",
     "text": [
      "younger cant vote\n"
     ]
    }
   ],
   "source": [
    "## if else\n",
    "age=2\n",
    "if age>18:\n",
    "    print(\"older and can vote\")\n",
    "else:\n",
    "    print(\"younger cant vote\")"
   ]
  },
  {
   "cell_type": "code",
   "execution_count": 7,
   "metadata": {},
   "outputs": [
    {
     "name": "stdout",
     "output_type": "stream",
     "text": [
      "you are a child\n"
     ]
    }
   ],
   "source": [
    "## elif statemnt\n",
    "age=11\n",
    "if age>18:\n",
    "    print(\"can give vote\")\n",
    "elif age<13:\n",
    "    print(\"you are a child\")\n",
    "elif age==20:\n",
    "    print(\"can vote and drive\")\n",
    "else:\n",
    "    print(\"cant vote\")"
   ]
  },
  {
   "cell_type": "code",
   "execution_count": 8,
   "metadata": {},
   "outputs": [
    {
     "name": "stdout",
     "output_type": "stream",
     "text": [
      "no is +\n",
      "no is odd\n"
     ]
    }
   ],
   "source": [
    "## nested conditional statemnts\n",
    "num=int(input(\"enter the number:\"))\n",
    "if num>0:\n",
    "    print(\"no is +\")\n",
    "    if num%2==0:\n",
    "        print(\"number is even\")\n",
    "    else:\n",
    "        print(\"no is odd\")\n",
    "elif num==0:\n",
    "    print(\"no is 0\")\n",
    "else:\n",
    "    print(\"no is -ve\")"
   ]
  },
  {
   "cell_type": "code",
   "execution_count": 13,
   "metadata": {},
   "outputs": [
    {
     "name": "stdout",
     "output_type": "stream",
     "text": [
      "2016 is a leap year\n"
     ]
    }
   ],
   "source": [
    "### use cases\n",
    "## practical examplese\n",
    "## you need to determine whether an year is leap year or not\n",
    "year=int(input(\"enter the year:\"))\n",
    "if year%4==0:\n",
    "    if year%100==0:\n",
    "        if year%400==0:\n",
    "            print(year,\"is a leap year\")\n",
    "        else:\n",
    "            print(\"not a leap year\")\n",
    "    else:\n",
    "        print(year,\"is a leap year\")\n",
    "else:\n",
    "    print(year,\"is not a leap year\")"
   ]
  },
  {
   "cell_type": "code",
   "execution_count": null,
   "metadata": {},
   "outputs": [],
   "source": []
  }
 ],
 "metadata": {
  "kernelspec": {
   "display_name": "Python 3",
   "language": "python",
   "name": "python3"
  },
  "language_info": {
   "codemirror_mode": {
    "name": "ipython",
    "version": 3
   },
   "file_extension": ".py",
   "mimetype": "text/x-python",
   "name": "python",
   "nbconvert_exporter": "python",
   "pygments_lexer": "ipython3",
   "version": "3.12.0"
  }
 },
 "nbformat": 4,
 "nbformat_minor": 2
}
