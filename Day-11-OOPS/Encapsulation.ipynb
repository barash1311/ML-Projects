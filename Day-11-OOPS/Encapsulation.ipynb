{
 "cells": [
  {
   "cell_type": "markdown",
   "metadata": {},
   "source": [
    "### encapsualtion"
   ]
  },
  {
   "cell_type": "code",
   "execution_count": null,
   "metadata": {},
   "outputs": [
    {
     "name": "stdout",
     "output_type": "stream",
     "text": [
      "baraSH\n"
     ]
    }
   ],
   "source": [
    "### encapuslation with getter and setter\n",
    "###public protected private and modifiers\n",
    "\n",
    "class Person:\n",
    "    def __init__(self,name,age):\n",
    "        self.name=name#public variable\n",
    "        self.age=age#oublic variable\n",
    "    def get_name(self):\n",
    "        return person.name\n",
    "        \n",
    "        \n",
    "person=Person(\"BARASH\",23)     \n",
    "print(person.get_name())   \n"
   ]
  },
  {
   "cell_type": "code",
   "execution_count": 7,
   "metadata": {},
   "outputs": [
    {
     "data": {
      "text/plain": [
       "['__class__',\n",
       " '__delattr__',\n",
       " '__dict__',\n",
       " '__dir__',\n",
       " '__doc__',\n",
       " '__eq__',\n",
       " '__format__',\n",
       " '__ge__',\n",
       " '__getattribute__',\n",
       " '__getstate__',\n",
       " '__gt__',\n",
       " '__hash__',\n",
       " '__init__',\n",
       " '__init_subclass__',\n",
       " '__le__',\n",
       " '__lt__',\n",
       " '__module__',\n",
       " '__ne__',\n",
       " '__new__',\n",
       " '__reduce__',\n",
       " '__reduce_ex__',\n",
       " '__repr__',\n",
       " '__setattr__',\n",
       " '__sizeof__',\n",
       " '__str__',\n",
       " '__subclasshook__',\n",
       " '__weakref__',\n",
       " 'age',\n",
       " 'get_name',\n",
       " 'name']"
      ]
     },
     "execution_count": 7,
     "metadata": {},
     "output_type": "execute_result"
    }
   ],
   "source": [
    "dir(person)"
   ]
  },
  {
   "cell_type": "code",
   "execution_count": 20,
   "metadata": {},
   "outputs": [
    {
     "name": "stdout",
     "output_type": "stream",
     "text": [
      "barsah\n"
     ]
    }
   ],
   "source": [
    "### encapuslation with getter and setter\n",
    "###public protected private and modifiers\n",
    "\n",
    "class Person:\n",
    "    def __init__(self,name,age,gender):\n",
    "        self.__name=name#private using __\n",
    "        self.__age=age#private using __\n",
    "        self.gender=gender\n",
    "    \n",
    "    def get_name(person):\n",
    "        return person.__name\n",
    "        \n",
    "        \n",
    "   \n",
    "person=Person(\"barsah\",23,\"male\")\n",
    "print(person.get_name())\n",
    "\n"
   ]
  },
  {
   "cell_type": "code",
   "execution_count": 23,
   "metadata": {},
   "outputs": [
    {
     "ename": "TypeError",
     "evalue": "'Person' object is not callable",
     "output_type": "error",
     "traceback": [
      "\u001b[1;31m---------------------------------------------------------------------------\u001b[0m",
      "\u001b[1;31mTypeError\u001b[0m                                 Traceback (most recent call last)",
      "Cell \u001b[1;32mIn[23], line 14\u001b[0m\n\u001b[0;32m     11\u001b[0m     \u001b[38;5;28;01mdef\u001b[39;00m \u001b[38;5;21m__init__\u001b[39m(\u001b[38;5;28mself\u001b[39m,name,age,gender):\n\u001b[0;32m     12\u001b[0m         \u001b[38;5;28msuper\u001b[39m()\u001b[38;5;241m.\u001b[39m\u001b[38;5;21m__init__\u001b[39m(name,age,gender) \n\u001b[1;32m---> 14\u001b[0m emplo\u001b[38;5;241m=\u001b[39m\u001b[43mEmployee\u001b[49m\u001b[43m(\u001b[49m\u001b[38;5;124;43m\"\u001b[39;49m\u001b[38;5;124;43mbarash\u001b[39;49m\u001b[38;5;124;43m\"\u001b[39;49m\u001b[43m,\u001b[49m\u001b[38;5;241;43m21\u001b[39;49m\u001b[43m,\u001b[49m\u001b[38;5;124;43m\"\u001b[39;49m\u001b[38;5;124;43mM\u001b[39;49m\u001b[38;5;124;43m\"\u001b[39;49m\u001b[43m)\u001b[49m\n\u001b[0;32m     15\u001b[0m \u001b[38;5;28mprint\u001b[39m(emplo\u001b[38;5;241m.\u001b[39m_name)\n\u001b[0;32m     17\u001b[0m \u001b[38;5;28;01mdef\u001b[39;00m \u001b[38;5;21mget_name\u001b[39m(person):\n",
      "\u001b[1;31mTypeError\u001b[0m: 'Person' object is not callable"
     ]
    }
   ],
   "source": [
    "### encapuslation with getter and setter\n",
    "###public protected private and modifiers\n",
    "\n",
    "class Person:\n",
    "    def __init__(self,name,age,gender):\n",
    "        self._name=name#protected using _\n",
    "        self._age=age#protected using _\n",
    "        self.gender=gender\n",
    "    \n",
    "class Employee(person):\n",
    "    def __init__(self,name,age,gender):\n",
    "        super().__init__(name,age,gender) \n",
    "        \n",
    "emplo=Employee(\"barash\",21,\"M\")\n",
    "print(emplo._name)\n",
    "    \n",
    "def get_name(person):\n",
    "        return person.__name\n",
    "\n",
    "\n"
   ]
  },
  {
   "cell_type": "code",
   "execution_count": 28,
   "metadata": {},
   "outputs": [
    {
     "name": "stdout",
     "output_type": "stream",
     "text": [
      "34\n",
      "barash\n",
      "23\n"
     ]
    }
   ],
   "source": [
    "### encapsulation with getter and setter\n",
    "class Person:\n",
    "    def __init__(self,name,age):\n",
    "        self.__name=name #private access modifiers\n",
    "        self.__age=age #private access modifiers\n",
    "    ## getter method for name\n",
    "    def get_name(self):\n",
    "        return self.__name\n",
    "    def get_age(self):\n",
    "        return self.__age\n",
    "    ##setter method for name\n",
    "    def set_name(self,name):\n",
    "        self.__name=name\n",
    "    def set_age(self,age):\n",
    "        self.__age=age\n",
    "        \n",
    "person=Person(\"barash\",34)\n",
    "##access and modify the private variables \n",
    "print(person.get_age())\n",
    "print(person.get_name())\n",
    "person.set_age(23)\n",
    "print(person.get_age())\n",
    "\n",
    "\n",
    "    "
   ]
  },
  {
   "cell_type": "code",
   "execution_count": null,
   "metadata": {},
   "outputs": [],
   "source": []
  }
 ],
 "metadata": {
  "kernelspec": {
   "display_name": "Python 3",
   "language": "python",
   "name": "python3"
  },
  "language_info": {
   "codemirror_mode": {
    "name": "ipython",
    "version": 3
   },
   "file_extension": ".py",
   "mimetype": "text/x-python",
   "name": "python",
   "nbconvert_exporter": "python",
   "pygments_lexer": "ipython3",
   "version": "3.12.0"
  }
 },
 "nbformat": 4,
 "nbformat_minor": 2
}
