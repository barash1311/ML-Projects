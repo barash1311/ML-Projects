{
 "cells": [
  {
   "cell_type": "markdown",
   "metadata": {},
   "source": [
    "## more examples"
   ]
  },
  {
   "cell_type": "code",
   "execution_count": 9,
   "metadata": {},
   "outputs": [
    {
     "name": "stdout",
     "output_type": "stream",
     "text": [
      "the farenheit temprature is 0.0\n"
     ]
    }
   ],
   "source": [
    "def convesion(temp,unit):\n",
    "    '''convert celcius to fareheit'''\n",
    "    if unit=='f':\n",
    "        return float((9/5)*temp+32)\n",
    "    elif unit==\"c\":\n",
    "        return float(((temp-32)*9)/5)\n",
    "    else:\n",
    "        print(\"invalid input\")\n",
    "temp=convesion(32,\"c\")\n",
    "print(f\"the farenheit temprature is {temp}\")\n"
   ]
  },
  {
   "cell_type": "code",
   "execution_count": null,
   "metadata": {},
   "outputs": [
    {
     "data": {
      "text/plain": [
       "True"
      ]
     },
     "execution_count": 12,
     "metadata": {},
     "output_type": "execute_result"
    }
   ],
   "source": [
    "## password strehgth checking\n",
    "def is_Strong(password):\n",
    "    '''this function check if the passowrd is strong or not'''\n",
    "    if len(password)<8:\n",
    "        return False\n",
    "    if not any( char.isdigit() for char in password):\n",
    "        return False\n",
    "    if not any( char.islower() for char in password):\n",
    "        return False\n",
    "    if not any( char.isupper() for char in password):\n",
    "        return False\n",
    "    if not any(char in \"!@#$%^&*()_+=\" for char in password):\n",
    "        return False\n",
    "    return True\n",
    "## calling the function\n",
    "is_Strong(\"AbCd33#$%\")"
   ]
  },
  {
   "cell_type": "code",
   "execution_count": 13,
   "metadata": {},
   "outputs": [
    {
     "name": "stdout",
     "output_type": "stream",
     "text": [
      "your total cost will be:37.0\n"
     ]
    }
   ],
   "source": [
    "## calculate the total cost of items in the shopping cart\n",
    "def calculate_total_cart(cart):\n",
    "    total_cost=0\n",
    "    for item in cart:\n",
    "        total_cost+=item['price']*item[\"quantity\"]\n",
    "    print(f\"your total cost will be:{total_cost}\")\n",
    "    \n",
    "    \n",
    "cart=[\n",
    "    {\"name\":\"apple\",\"price\":0.5,\"quantity\":4},\n",
    "    {\"name\":\"burger\",\"price\":5,\"quantity\":2},\n",
    "    {\"name\":\"soap\",\"price\":1,\"quantity\":10},\n",
    "    {\"name\":\"banana\",\"price\":3,\"quantity\":5},\n",
    "    ]\n",
    "calculate_total_cart(cart)"
   ]
  },
  {
   "cell_type": "code",
   "execution_count": 14,
   "metadata": {},
   "outputs": [
    {
     "name": "stdout",
     "output_type": "stream",
     "text": [
      "True\n"
     ]
    }
   ],
   "source": [
    "## checking if the string is palindrome\n",
    "def is_palindrome(s):\n",
    "    s=s.lower().replace(\" \",\"\")\n",
    "    return s[::-1]==s\n",
    "print(is_palindrome(\"a man a plan a canal panama\"))"
   ]
  },
  {
   "cell_type": "code",
   "execution_count": 15,
   "metadata": {},
   "outputs": [
    {
     "name": "stdout",
     "output_type": "stream",
     "text": [
      "120\n"
     ]
    }
   ],
   "source": [
    "## factoiral of a number\n",
    "def factorial(n):\n",
    "    if n==1 or n==0:\n",
    "        return 1\n",
    "    return n*factorial(n-1)\n",
    "fact=factorial(5)\n",
    "print(fact)\n",
    "    "
   ]
  },
  {
   "cell_type": "code",
   "execution_count": 24,
   "metadata": {},
   "outputs": [
    {
     "name": "stdout",
     "output_type": "stream",
     "text": [
      "{'hello': 1, 'world': 1, 'how': 1, 'are': 1, 'you': 1, 'my': 1, 'name': 1, 'is': 1, 'barash': 2}\n"
     ]
    }
   ],
   "source": [
    "def  count_word_frequency(file_path):\n",
    "    word_count={}\n",
    "    with open(file_path,\"r\") as file:\n",
    "        for line in file:\n",
    "            words=line.split()\n",
    "            for word in words:\n",
    "                word=word.lower().strip('.,!;:\"\\'')\n",
    "                word_count[word]=word_count.get(word,0)+1\n",
    "    return word_count\n",
    "file=\"sample.txt\"\n",
    "word=count_word_frequency(file)\n",
    "print(word)"
   ]
  },
  {
   "cell_type": "code",
   "execution_count": null,
   "metadata": {},
   "outputs": [
    {
     "name": "stdout",
     "output_type": "stream",
     "text": [
      "apple\n"
     ]
    }
   ],
   "source": [
    "val={\"name\":\"apple\",\"price\":0.5,\"quantity\":4}\n",
    "print(val.get(\"name\"))"
   ]
  },
  {
   "cell_type": "code",
   "execution_count": null,
   "metadata": {},
   "outputs": [],
   "source": [
    "import re\n",
    "def is_valid(email):\n",
    "    '''this function check where rthe email is valid or nto'''\n",
    "    pattern=r'^[a-zA-Z0-9_.+-]+@[a-zA-Z0-9-]+\\.[a-zA-Z0-9-.]+$'\n",
    "    return re.match(pattern,email) is not None\n"
   ]
  }
 ],
 "metadata": {
  "kernelspec": {
   "display_name": "Python 3",
   "language": "python",
   "name": "python3"
  },
  "language_info": {
   "codemirror_mode": {
    "name": "ipython",
    "version": 3
   },
   "file_extension": ".py",
   "mimetype": "text/x-python",
   "name": "python",
   "nbconvert_exporter": "python",
   "pygments_lexer": "ipython3",
   "version": "3.12.0"
  }
 },
 "nbformat": 4,
 "nbformat_minor": 2
}
