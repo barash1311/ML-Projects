{
 "cells": [
  {
   "cell_type": "markdown",
   "metadata": {},
   "source": [
    "### files\n"
   ]
  },
  {
   "cell_type": "code",
   "execution_count": 3,
   "metadata": {},
   "outputs": [
    {
     "name": "stdout",
     "output_type": "stream",
     "text": [
      "hello my name is barash sharma \n",
      "dfds\n",
      "sdf\n",
      "sdfsdf\n",
      "\n"
     ]
    }
   ],
   "source": [
    "### read a whole file\n",
    "with open(\"example.txt\",mode=\"r\") as file:\n",
    "    contenet=file.read()\n",
    "    print(contenet)"
   ]
  },
  {
   "cell_type": "code",
   "execution_count": 7,
   "metadata": {},
   "outputs": [
    {
     "name": "stdout",
     "output_type": "stream",
     "text": [
      "hello my name is barash sharma\n",
      "dfds\n",
      "sdf\n",
      "sdfsdf\n"
     ]
    }
   ],
   "source": [
    "## read afile line by line\n",
    "with open(\"example.txt\",mode=\"r\") as file:\n",
    "    for line in file:\n",
    "        print(line.strip())#remove the newline character\n",
    "        "
   ]
  },
  {
   "cell_type": "code",
   "execution_count": 9,
   "metadata": {},
   "outputs": [],
   "source": [
    "## writing a file\n",
    "with open(\"example.txt\",mode=\"w\") as file:\n",
    "    file.write(\"hello world\\n\")"
   ]
  },
  {
   "cell_type": "code",
   "execution_count": null,
   "metadata": {},
   "outputs": [],
   "source": []
  }
 ],
 "metadata": {
  "kernelspec": {
   "display_name": "Python 3",
   "language": "python",
   "name": "python3"
  },
  "language_info": {
   "codemirror_mode": {
    "name": "ipython",
    "version": 3
   },
   "file_extension": ".py",
   "mimetype": "text/x-python",
   "name": "python",
   "nbconvert_exporter": "python",
   "pygments_lexer": "ipython3",
   "version": "3.12.0"
  }
 },
 "nbformat": 4,
 "nbformat_minor": 2
}
