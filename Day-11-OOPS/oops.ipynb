{
 "cells": [
  {
   "cell_type": "markdown",
   "metadata": {},
   "source": [
    "### oops"
   ]
  },
  {
   "cell_type": "code",
   "execution_count": 1,
   "metadata": {},
   "outputs": [
    {
     "name": "stdout",
     "output_type": "stream",
     "text": [
      "<class '__main__.Car'>\n"
     ]
    }
   ],
   "source": [
    "class Car:\n",
    "    pass\n",
    "\n",
    "honda=Car()\n",
    "bmw=Car()\n",
    "print(type(honda))"
   ]
  },
  {
   "cell_type": "code",
   "execution_count": 6,
   "metadata": {},
   "outputs": [
    {
     "name": "stdout",
     "output_type": "stream",
     "text": [
      "<__main__.Car object at 0x00000140D899F170>\n",
      "<__main__.Car object at 0x00000140D8FE8A40>\n",
      "4\n"
     ]
    },
    {
     "data": {
      "text/plain": [
       "['__class__',\n",
       " '__delattr__',\n",
       " '__dict__',\n",
       " '__dir__',\n",
       " '__doc__',\n",
       " '__eq__',\n",
       " '__format__',\n",
       " '__ge__',\n",
       " '__getattribute__',\n",
       " '__getstate__',\n",
       " '__gt__',\n",
       " '__hash__',\n",
       " '__init__',\n",
       " '__init_subclass__',\n",
       " '__le__',\n",
       " '__lt__',\n",
       " '__module__',\n",
       " '__ne__',\n",
       " '__new__',\n",
       " '__reduce__',\n",
       " '__reduce_ex__',\n",
       " '__repr__',\n",
       " '__setattr__',\n",
       " '__sizeof__',\n",
       " '__str__',\n",
       " '__subclasshook__',\n",
       " '__weakref__',\n",
       " 'windows']"
      ]
     },
     "execution_count": 6,
     "metadata": {},
     "output_type": "execute_result"
    }
   ],
   "source": [
    "print(bmw)\n",
    "print(honda)\n",
    "bmw.windows=4\n",
    "print(bmw.windows)\n",
    "dir(bmw)"
   ]
  },
  {
   "cell_type": "code",
   "execution_count": null,
   "metadata": {},
   "outputs": [
    {
     "name": "stdout",
     "output_type": "stream",
     "text": [
      "<__main__.Dog object at 0x00000140DAB8BB00>\n",
      "buddy\n",
      "3\n"
     ]
    }
   ],
   "source": [
    "### instances and bvariables\n",
    "class Dog:\n",
    "    #constructor\n",
    "    def __init__(self,name,age):\n",
    "        self.name=name\n",
    "        self.age=age\n",
    "        \n",
    "    ##instance a method\n",
    "        \n",
    "## creation of object\n",
    "dog1=Dog(\"buddy\",3)\n",
    "print(dog1)\n",
    "print(dog1.name)\n",
    "print(dog1.age)\n",
    "        \n",
    "    "
   ]
  },
  {
   "cell_type": "code",
   "execution_count": 13,
   "metadata": {},
   "outputs": [
    {
     "name": "stdout",
     "output_type": "stream",
     "text": [
      "<__main__.Dog object at 0x00000140DABC9820>\n",
      "lucy\n",
      "3\n"
     ]
    }
   ],
   "source": [
    "dog2=Dog(\"lucy\",3)\n",
    "print(dog2)\n",
    "print(dog2.name)\n",
    "print(dog2.age)"
   ]
  },
  {
   "cell_type": "code",
   "execution_count": 15,
   "metadata": {},
   "outputs": [
    {
     "name": "stdout",
     "output_type": "stream",
     "text": [
      "buddy says woof woof\n",
      "lucy says woof woof\n"
     ]
    }
   ],
   "source": [
    "class Dog:\n",
    "    def __init__(self,name,age):\n",
    "        self.name=name\n",
    "        self.age=age\n",
    "        \n",
    "    #instance method\n",
    "    def bark(self):\n",
    "        print(f\"{self.name} says woof woof\")\n",
    "        \n",
    "dog1=Dog(\"buddy\",4)\n",
    "dog1.bark()\n",
    "dog2=Dog(\"lucy\",4)\n",
    "dog2.bark()\n",
    "        "
   ]
  },
  {
   "cell_type": "code",
   "execution_count": 21,
   "metadata": {},
   "outputs": [
    {
     "name": "stdout",
     "output_type": "stream",
     "text": [
      "5000\n"
     ]
    }
   ],
   "source": [
    "### modeling a bank account\n",
    "class BankAccount:\n",
    "    def __init__(self,owner_info,balance=0):\n",
    "        self.owner_info=owner_info\n",
    "        self.balance=balance\n",
    "    \n",
    "    def deposit(self,amount):\n",
    "        self.balance+=amount\n",
    "        print(f\"amount is deposited!\\n new balance is {self.balance}\")\n",
    "    \n",
    "    def withdrawl(self,amount):\n",
    "        if amount<self.balance:\n",
    "            self.balance-=amount\n",
    "            print(f\"withdrawn successful and the balance is {self.balance}\")\n",
    "        else: \n",
    "            print(\"insufficient balance\")\n",
    "    def get_balance(self):\n",
    "        print(f\"your balance is :{self.balance}\")\n",
    "\n",
    "##object\n",
    "account=BankAccount(\"barash sharma\",5000)\n",
    "print(account.balance)\n",
    "\n",
    "            \n",
    "            "
   ]
  },
  {
   "cell_type": "code",
   "execution_count": 18,
   "metadata": {},
   "outputs": [
    {
     "name": "stdout",
     "output_type": "stream",
     "text": [
      "amount is deposited!\n",
      " new balance is 5400\n"
     ]
    }
   ],
   "source": [
    "account.deposit(400)"
   ]
  },
  {
   "cell_type": "code",
   "execution_count": 19,
   "metadata": {},
   "outputs": [
    {
     "name": "stdout",
     "output_type": "stream",
     "text": [
      "withdrawn successful and the balance is 5100\n"
     ]
    }
   ],
   "source": [
    "account.withdrawl(300)"
   ]
  },
  {
   "cell_type": "code",
   "execution_count": 22,
   "metadata": {},
   "outputs": [
    {
     "name": "stdout",
     "output_type": "stream",
     "text": [
      "your balance is :5000\n"
     ]
    }
   ],
   "source": [
    "account.get_balance()"
   ]
  },
  {
   "cell_type": "code",
   "execution_count": null,
   "metadata": {},
   "outputs": [],
   "source": []
  }
 ],
 "metadata": {
  "kernelspec": {
   "display_name": "Python 3",
   "language": "python",
   "name": "python3"
  },
  "language_info": {
   "codemirror_mode": {
    "name": "ipython",
    "version": 3
   },
   "file_extension": ".py",
   "mimetype": "text/x-python",
   "name": "python",
   "nbconvert_exporter": "python",
   "pygments_lexer": "ipython3",
   "version": "3.12.0"
  }
 },
 "nbformat": 4,
 "nbformat_minor": 2
}
