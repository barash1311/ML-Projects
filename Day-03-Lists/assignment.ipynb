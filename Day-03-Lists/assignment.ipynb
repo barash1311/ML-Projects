{
 "cells": [
  {
   "cell_type": "code",
   "execution_count": 1,
   "metadata": {},
   "outputs": [
    {
     "name": "stdout",
     "output_type": "stream",
     "text": [
      "[0, 1, 2, 3, 4, 5, 6, 7, 8, 9, 10, 11, 12, 13, 14, 15, 16, 17, 18, 19, 20]\n"
     ]
    }
   ],
   "source": [
    "list=[ i for i in range(21)]\n",
    "print(list)"
   ]
  },
  {
   "cell_type": "code",
   "execution_count": 3,
   "metadata": {},
   "outputs": [
    {
     "name": "stdout",
     "output_type": "stream",
     "text": [
      "0 10 20\n"
     ]
    }
   ],
   "source": [
    "print(list[0],list[int(len(list)/2)],list[-1])"
   ]
  },
  {
   "cell_type": "code",
   "execution_count": 5,
   "metadata": {},
   "outputs": [
    {
     "name": "stdout",
     "output_type": "stream",
     "text": [
      "[0, 1, 2, 3, 4]\n",
      "[5, 6, 7, 8, 9, 10, 11, 12, 13, 14]\n"
     ]
    }
   ],
   "source": [
    "print(list[:5])\n",
    "print(list[5:15])"
   ]
  },
  {
   "cell_type": "code",
   "execution_count": 6,
   "metadata": {},
   "outputs": [
    {
     "name": "stdout",
     "output_type": "stream",
     "text": [
      "[0, 1, 4, 9, 16, 25, 36, 49, 64, 81, 100, 121, 144, 169, 196, 225, 256, 289, 324, 361, 400]\n"
     ]
    }
   ],
   "source": [
    "square=[ i **2 for i in range(21)]\n",
    "print(square)"
   ]
  },
  {
   "cell_type": "code",
   "execution_count": 8,
   "metadata": {},
   "outputs": [
    {
     "name": "stdout",
     "output_type": "stream",
     "text": [
      "[0, 2, 4, 6, 8, 10, 12, 14, 16, 18, 20]\n"
     ]
    }
   ],
   "source": [
    "even=[ i for i in range(len(square)) if i%2==0]\n",
    "print(even)"
   ]
  },
  {
   "cell_type": "code",
   "execution_count": 13,
   "metadata": {},
   "outputs": [
    {
     "name": "stdout",
     "output_type": "stream",
     "text": [
      "6\n"
     ]
    }
   ],
   "source": [
    "matrix=[\n",
    "    [1,2,3],\n",
    "    [4,5,6],\n",
    "    [7,8,9],\n",
    "]\n",
    "print(matrix[1][2])"
   ]
  },
  {
   "cell_type": "code",
   "execution_count": null,
   "metadata": {},
   "outputs": [
    {
     "name": "stdout",
     "output_type": "stream",
     "text": [
      "[{3: 'c'}, {2: 'b'}, {1: 'a'}]\n"
     ]
    }
   ],
   "source": [
    "list_of_dictionaries=[\n",
    "    {1:\"a\"},\n",
    "    {2:\"b\"},\n",
    "    {3:\"c\"},\n",
    "]\n",
    "list_of_dictionaries.reverse()\n",
    "list_of_dictionaries.sort()\n",
    "print(list_of_dictionaries)"
   ]
  },
  {
   "cell_type": "code",
   "execution_count": 18,
   "metadata": {},
   "outputs": [
    {
     "name": "stdout",
     "output_type": "stream",
     "text": [
      "[[1, 4, 7], [2, 5, 8], [3, 6, 9]]\n"
     ]
    }
   ],
   "source": [
    "matrix=[\n",
    "    [1,2,3],\n",
    "    [4,5,6],\n",
    "    [7,8,9],\n",
    "]\n",
    "rows=len(matrix)\n",
    "column=len(matrix[0])\n",
    "transpose_result=[  [0]*rows for i in range(column)]\n",
    "for i in range(rows):\n",
    "    for j in range(column):\n",
    "        transpose_result[i][j]=matrix[j][i]\n",
    "\n",
    "print(transpose_result)\n"
   ]
  },
  {
   "cell_type": "code",
   "execution_count": 16,
   "metadata": {},
   "outputs": [
    {
     "name": "stdout",
     "output_type": "stream",
     "text": [
      "[[0, 0, 0], [0, 0, 0], [0, 0, 0]]\n"
     ]
    }
   ],
   "source": [
    "result=[[0]*3 for i in range(3)]\n",
    "print(result)\n"
   ]
  },
  {
   "cell_type": "code",
   "execution_count": 19,
   "metadata": {},
   "outputs": [
    {
     "name": "stdout",
     "output_type": "stream",
     "text": [
      "[1, 2, 3, 4, 5, 6]\n"
     ]
    }
   ],
   "source": [
    "list=[\n",
    "    [1,2,3],\n",
    "    [4,5,6],\n",
    "]\n",
    "final_list=[]\n",
    "for i in range(len(list)):\n",
    "    for j in range(len(list[0])):\n",
    "        final_list.append(list[i][j])\n",
    "print(final_list)"
   ]
  },
  {
   "cell_type": "code",
   "execution_count": 22,
   "metadata": {},
   "outputs": [
    {
     "name": "stdout",
     "output_type": "stream",
     "text": [
      "[0, 1, 3, 5, 7, 99, 8, 9, 10]\n"
     ]
    }
   ],
   "source": [
    "list=[ i for i in range(11)]\n",
    "list.remove(2)\n",
    "list.remove(4)\n",
    "list.remove(6)\n",
    "list.insert(5,99)\n",
    "print(list)"
   ]
  },
  {
   "cell_type": "code",
   "execution_count": 26,
   "metadata": {},
   "outputs": [
    {
     "name": "stdout",
     "output_type": "stream",
     "text": [
      "((0, 1), (2, 3), (4, 5))\n"
     ]
    }
   ],
   "source": [
    "list1=[0,2,4]\n",
    "list2=[1,3,5]\n",
    "final_list_of_tuples=tuple(zip(list1,list2))\n",
    "print(final_list_of_tuples)"
   ]
  },
  {
   "cell_type": "code",
   "execution_count": 1,
   "metadata": {},
   "outputs": [
    {
     "name": "stdout",
     "output_type": "stream",
     "text": [
      "[6, 5, 4, 3, 2, 1]\n"
     ]
    }
   ],
   "source": [
    "def reverese(list):\n",
    "    i=0\n",
    "    j=len(list)-1\n",
    "    while i<j:\n",
    "        list[i],list[j]=list[j],list[i]\n",
    "        i+=1\n",
    "        j-=1\n",
    "    return list\n",
    "list=[1,2,3,4,5,6]\n",
    "final__a=reverese(list)\n",
    "print(final__a)"
   ]
  },
  {
   "cell_type": "code",
   "execution_count": null,
   "metadata": {},
   "outputs": [],
   "source": [
    "## rotation method 1\n",
    "list=[0,1,2,3,4,5,6,7]\n",
    "def rotate(list,n):\n",
    "    return list[n:]+list[:n]\n",
    "## n--2\n",
    "## [1,2,3,4,5,6,7,0]"
   ]
  },
  {
   "cell_type": "code",
   "execution_count": 3,
   "metadata": {},
   "outputs": [
    {
     "name": "stdout",
     "output_type": "stream",
     "text": [
      "[0, 2, 4, 1, 3, 5]\n"
     ]
    }
   ],
   "source": [
    "list1=[0,2,4]\n",
    "list2=[1,3,5]\n",
    "print(list1+list2)"
   ]
  },
  {
   "cell_type": "code",
   "execution_count": 4,
   "metadata": {},
   "outputs": [],
   "source": [
    "## method 2\n",
    "def rotate_manually(list,n):\n",
    "    output=[]\n",
    "    x=len(list)\n",
    "    for item in range(x-n,x):\n",
    "        output.append(list[item])\n",
    "    for item in range(0,x-n):\n",
    "        output.append(list[item])\n",
    "    return output"
   ]
  },
  {
   "cell_type": "code",
   "execution_count": 7,
   "metadata": {},
   "outputs": [
    {
     "name": "stdout",
     "output_type": "stream",
     "text": [
      "[0, 1, 2, 3, 4, 5, 6, 7]\n"
     ]
    }
   ],
   "source": [
    "list=[0,1,2,3,4,5,6,7,8,9]\n",
    "x=len(list)\n",
    "n=2\n",
    "print(list[0:x-n])"
   ]
  },
  {
   "cell_type": "code",
   "execution_count": null,
   "metadata": {},
   "outputs": [],
   "source": [
    "def intersection(list1,list2):\n",
    "    output=[]\n",
    "    i=0\n",
    "    while i!=len(list1) or i!=len(list2):\n",
    "        if list1[i]==list2[i]:\n",
    "            output.append(list1[i])\n",
    "            i+=1\n",
    "        else:\n",
    "            output.append(list2[i])\n",
    "            i+=1\n",
    "        \n"
   ]
  }
 ],
 "metadata": {
  "kernelspec": {
   "display_name": "Python 3",
   "language": "python",
   "name": "python3"
  },
  "language_info": {
   "codemirror_mode": {
    "name": "ipython",
    "version": 3
   },
   "file_extension": ".py",
   "mimetype": "text/x-python",
   "name": "python",
   "nbconvert_exporter": "python",
   "pygments_lexer": "ipython3",
   "version": "3.12.0"
  }
 },
 "nbformat": 4,
 "nbformat_minor": 2
}
