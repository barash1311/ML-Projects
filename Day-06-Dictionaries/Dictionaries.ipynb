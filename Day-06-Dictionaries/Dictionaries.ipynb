{
 "cells": [
  {
   "cell_type": "markdown",
   "metadata": {},
   "source": [
    "### DICTIONARIES"
   ]
  },
  {
   "cell_type": "code",
   "execution_count": 1,
   "metadata": {},
   "outputs": [
    {
     "name": "stdout",
     "output_type": "stream",
     "text": [
      "<class 'dict'>\n"
     ]
    }
   ],
   "source": [
    "## basics creation\n",
    "my_dictionary={}\n",
    "print(type(my_dictionary))"
   ]
  },
  {
   "cell_type": "code",
   "execution_count": 2,
   "metadata": {},
   "outputs": [
    {
     "name": "stdout",
     "output_type": "stream",
     "text": [
      "{}\n"
     ]
    }
   ],
   "source": [
    "empty=dict()\n",
    "print(empty)"
   ]
  },
  {
   "cell_type": "code",
   "execution_count": 4,
   "metadata": {},
   "outputs": [
    {
     "name": "stdout",
     "output_type": "stream",
     "text": [
      "<class 'dict'>\n"
     ]
    }
   ],
   "source": [
    "student={\n",
    "    \"name\":\"barash\",\n",
    "    \"Age\":32,\n",
    "    \"grade\":24,   \n",
    "}\n",
    "print(type(student))"
   ]
  },
  {
   "cell_type": "code",
   "execution_count": 7,
   "metadata": {},
   "outputs": [
    {
     "name": "stdout",
     "output_type": "stream",
     "text": [
      "{'name': 24, 'Age': 32}\n"
     ]
    }
   ],
   "source": [
    "## Error\n",
    "student={\n",
    "    \"name\":\"barash\",\n",
    "    \"Age\":32,\n",
    "    \"name\":24,   \n",
    "}\n",
    "print(student)\n"
   ]
  },
  {
   "cell_type": "code",
   "execution_count": 13,
   "metadata": {},
   "outputs": [
    {
     "name": "stdout",
     "output_type": "stream",
     "text": [
      "A\n",
      "32\n",
      "A\n",
      "None\n",
      "not avaible\n"
     ]
    }
   ],
   "source": [
    "## accesing dictionary elements\n",
    "student={\n",
    "    \"name\":\"barash\",\n",
    "    \"Age\":32,\n",
    "    \"grade\":\"A\",   \n",
    "}\n",
    "print(student[\"grade\"])\n",
    "print(student[\"Age\"])\n",
    "print(student.get(\"grade\"))\n",
    "print(student.get(\"last_name\"))\n",
    "print(student.get(\"lat_name\",\"not avaible\"))"
   ]
  },
  {
   "cell_type": "code",
   "execution_count": 14,
   "metadata": {},
   "outputs": [
    {
     "name": "stdout",
     "output_type": "stream",
     "text": [
      "{'name': 'barash', 'Age': 32, 'grade': 'A'}\n"
     ]
    }
   ],
   "source": [
    "## Modigying dictionary elements\n",
    "## dictionary are mutable collcetion so we can update and delete element and only thing is key should be unique\n",
    "print(student)"
   ]
  },
  {
   "cell_type": "code",
   "execution_count": 17,
   "metadata": {},
   "outputs": [
    {
     "name": "stdout",
     "output_type": "stream",
     "text": [
      "{'name': 'barash', 'Age': 33, 'grade': 'A', 'address': 'india'}\n",
      "{'name': 'barash', 'Age': 33, 'grade': 'A', 'address': 'india'}\n",
      "{'name': 'barash', 'Age': 33, 'grade': 'A'}\n"
     ]
    }
   ],
   "source": [
    "student[\"Age\"]=33\n",
    "print(student)\n",
    "student[\"address\"]=\"india\"\n",
    "print(student)\n",
    "del student[\"address\"]\n",
    "print(student)"
   ]
  },
  {
   "cell_type": "code",
   "execution_count": 23,
   "metadata": {},
   "outputs": [
    {
     "name": "stdout",
     "output_type": "stream",
     "text": [
      "['name', 'Age', 'grade']\n",
      "['barash', 33, 'A']\n",
      "[('name', 'barash'), ('Age', 33), ('grade', 'A')]\n"
     ]
    }
   ],
   "source": [
    "## important dictionary methods\n",
    "keys=list(student.keys())\n",
    "print(keys)\n",
    "values=list(student.values())\n",
    "print(values)\n",
    "items=list(student.items())\n",
    "print(items)"
   ]
  },
  {
   "cell_type": "code",
   "execution_count": 24,
   "metadata": {},
   "outputs": [
    {
     "data": {
      "text/plain": [
       "{'name': 'barash', 'Age': 33, 'grade': 'A'}"
      ]
     },
     "execution_count": 24,
     "metadata": {},
     "output_type": "execute_result"
    }
   ],
   "source": [
    "## shallow copy\n",
    "student"
   ]
  },
  {
   "cell_type": "code",
   "execution_count": 26,
   "metadata": {},
   "outputs": [
    {
     "name": "stdout",
     "output_type": "stream",
     "text": [
      "{'name': 'barash', 'Age': 33, 'grade': 'A'}\n",
      "{'name': 'barash', 'Age': 33, 'grade': 'A'}\n"
     ]
    }
   ],
   "source": [
    "student_copy=student\n",
    "print(student)\n",
    "print(student_copy)"
   ]
  },
  {
   "cell_type": "code",
   "execution_count": 27,
   "metadata": {},
   "outputs": [
    {
     "name": "stdout",
     "output_type": "stream",
     "text": [
      "{'name': 'barash1', 'Age': 33, 'grade': 'A'}\n",
      "{'name': 'barash1', 'Age': 33, 'grade': 'A'}\n"
     ]
    }
   ],
   "source": [
    "student[\"name\"]=\"barash1\"\n",
    "print(student)\n",
    "print(student_copy)"
   ]
  },
  {
   "cell_type": "code",
   "execution_count": null,
   "metadata": {},
   "outputs": [
    {
     "name": "stdout",
     "output_type": "stream",
     "text": [
      "{'name': 'barash1', 'Age': 33, 'grade': 'A'}\n",
      "{'name': 'barash1', 'Age': 33, 'grade': 'A'}\n",
      "{'name': 'barash1', 'Age': 33, 'grade': 'A'}\n",
      "{'name': 'barsh3', 'Age': 33, 'grade': 'A'}\n"
     ]
    }
   ],
   "source": [
    "## ashallow coppy--> provide a sepeare memmory\n",
    "student_cpy1=student.copy()\n",
    "print(student_cpy1)\n",
    "print(student)\n",
    "student[\"name\"]=\"barsh3\"\n",
    "print(student_cpy1)\n",
    "print(student)"
   ]
  },
  {
   "cell_type": "code",
   "execution_count": 38,
   "metadata": {},
   "outputs": [
    {
     "name": "stdout",
     "output_type": "stream",
     "text": [
      "name\n",
      "Age\n",
      "grade\n",
      "\n",
      "barsh3\n",
      "33\n",
      "A\n",
      "name:barsh3\n",
      "Age:33\n",
      "grade:A\n"
     ]
    }
   ],
   "source": [
    "## iteration over dictionary\n",
    "#1. loops to iterate,keys,avalues,items\n",
    "student\n",
    "#over kets\n",
    "for keys in student.keys():\n",
    "    print(keys)\n",
    "#iterate over values\n",
    "print(end=\"\\n\")\n",
    "for values in student.values():\n",
    "    print(values)\n",
    "#over key value pair\n",
    "for key,value in student.items():\n",
    "    print(f\"{key}:{value}\")\n"
   ]
  },
  {
   "cell_type": "code",
   "execution_count": 39,
   "metadata": {},
   "outputs": [
    {
     "name": "stdout",
     "output_type": "stream",
     "text": [
      "{'student1': {'name': 'barsh', 'Age': 20}, 'student2': {'name': 'aryan', 'Age': 23}, 'student3': {'name': 'akshat', 'Age': 20}}\n"
     ]
    }
   ],
   "source": [
    "## nested dictionaries\n",
    "nested_dictionaries={\n",
    "    \"student1\":{\n",
    "        \"name\":\"barsh\",\n",
    "        \"Age\":20,\n",
    "    },\n",
    "    \"student2\":{\n",
    "        \"name\":\"aryan\",\n",
    "        \"Age\":23,\n",
    "    },\n",
    "    \"student3\":{\n",
    "        \"name\":\"akshat\",\n",
    "        \"Age\":20,\n",
    "    }\n",
    "}\n",
    "print(nested_dictionaries)"
   ]
  },
  {
   "cell_type": "code",
   "execution_count": 43,
   "metadata": {},
   "outputs": [
    {
     "name": "stdout",
     "output_type": "stream",
     "text": [
      "aryan\n",
      "20\n"
     ]
    }
   ],
   "source": [
    "## accesing nested dictionaries\n",
    "print(nested_dictionaries[\"student2\"][\"name\"])\n",
    "print(nested_dictionaries[\"student1\"][\"Age\"])"
   ]
  },
  {
   "cell_type": "code",
   "execution_count": 44,
   "metadata": {},
   "outputs": [
    {
     "name": "stdout",
     "output_type": "stream",
     "text": [
      "student1:{'name': 'barsh', 'Age': 20}\n",
      "name:barsh\n",
      "Age:20\n",
      "student2:{'name': 'aryan', 'Age': 23}\n",
      "name:aryan\n",
      "Age:23\n",
      "student3:{'name': 'akshat', 'Age': 20}\n",
      "name:akshat\n",
      "Age:20\n"
     ]
    }
   ],
   "source": [
    "## iteration onver nested \n",
    "for student_id,student_info in nested_dictionaries.items():\n",
    "    print(f\"{student_id}:{student_info}\")\n",
    "    for key,value in student_info.items():\n",
    "        print(f\"{key}:{value}\")"
   ]
  },
  {
   "cell_type": "code",
   "execution_count": 1,
   "metadata": {},
   "outputs": [
    {
     "name": "stdout",
     "output_type": "stream",
     "text": [
      "{0: 0, 1: 1, 2: 4, 3: 9, 4: 16}\n",
      "hello world\n"
     ]
    }
   ],
   "source": [
    "## dictionary comprehension\n",
    "squares={x:x**2 for x in range(5)}\n",
    "print(squares)\n",
    "print(\"hello world\")"
   ]
  },
  {
   "cell_type": "code",
   "execution_count": 47,
   "metadata": {},
   "outputs": [
    {
     "name": "stdout",
     "output_type": "stream",
     "text": [
      "{0: 0, 2: 4, 4: 16, 6: 36, 8: 64}\n"
     ]
    }
   ],
   "source": [
    "## conditional dictionary comprehension\n",
    "evens={ x:x**2 for x in range(10) if x%2==0}\n",
    "print(evens)"
   ]
  },
  {
   "cell_type": "code",
   "execution_count": 48,
   "metadata": {},
   "outputs": [
    {
     "name": "stdout",
     "output_type": "stream",
     "text": [
      "{1: 1, 2: 2, 3: 3, 5: 1, 6: 1, 7: 1, 4: 2}\n"
     ]
    }
   ],
   "source": [
    "## practical example \n",
    "## use a dictionart to count the frequency of element in list\n",
    "numbers=[1,2,2,3,3,3,5,6,7,4,4]\n",
    "frequency={}\n",
    "for number in numbers:\n",
    "    if number in frequency:\n",
    "        frequency[number]+=1\n",
    "    else:\n",
    "        frequency[number]=1\n",
    "print(frequency)"
   ]
  },
  {
   "cell_type": "code",
   "execution_count": 50,
   "metadata": {},
   "outputs": [
    {
     "name": "stdout",
     "output_type": "stream",
     "text": [
      "{'a': 1, 'b': 3, 'c': 4}\n"
     ]
    }
   ],
   "source": [
    "## merge two dictionaries\n",
    "dicto1={\"a\":1,\"b\":2}\n",
    "dicto2={\"b\":3,\"c\":4}\n",
    "merged_dict={**dicto1,**dicto2}\n",
    "print(merged_dict)"
   ]
  },
  {
   "cell_type": "code",
   "execution_count": null,
   "metadata": {},
   "outputs": [],
   "source": [
    "my_dictionary={\n",
    "    \"name\":\"barash\"\n",
    "}"
   ]
  },
  {
   "cell_type": "code",
   "execution_count": null,
   "metadata": {},
   "outputs": [],
   "source": []
  }
 ],
 "metadata": {
  "kernelspec": {
   "display_name": "Python 3",
   "language": "python",
   "name": "python3"
  },
  "language_info": {
   "codemirror_mode": {
    "name": "ipython",
    "version": 3
   },
   "file_extension": ".py",
   "mimetype": "text/x-python",
   "name": "python",
   "nbconvert_exporter": "python",
   "pygments_lexer": "ipython3",
   "version": "3.12.0"
  }
 },
 "nbformat": 4,
 "nbformat_minor": 2
}
