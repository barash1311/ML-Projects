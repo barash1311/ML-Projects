{
 "cells": [
  {
   "cell_type": "markdown",
   "metadata": {},
   "source": [
    "### advance function "
   ]
  },
  {
   "cell_type": "code",
   "execution_count": 1,
   "metadata": {},
   "outputs": [
    {
     "name": "stdout",
     "output_type": "stream",
     "text": [
      "[1, 1, 2, 3, 5, 8, 13, 21, 34, 55]\n"
     ]
    }
   ],
   "source": [
    "## fibonacci series using memoization\n",
    "def fibonacci(num):\n",
    "    if num<=1:\n",
    "        return 1\n",
    "    return fibonacci(num-1)+fibonacci(num-2)\n",
    "num=10\n",
    "print([fibonacci(i) for i in range(10)])"
   ]
  },
  {
   "cell_type": "code",
   "execution_count": 4,
   "metadata": {},
   "outputs": [
    {
     "name": "stdout",
     "output_type": "stream",
     "text": [
      "{'key1': 5}\n",
      "{'key0': 1, 'key1': 5}\n"
     ]
    }
   ],
   "source": [
    "def add_to_dict(a,b=None):\n",
    "    if b is None:\n",
    "        b={}\n",
    "    b[a]=len(a)+1\n",
    "    return b\n",
    "result=add_to_dict(\"key1\")\n",
    "print(result)\n",
    "result0={\"key0\":1}\n",
    "result=add_to_dict(\"key1\",result0)\n",
    "print(result)"
   ]
  },
  {
   "cell_type": "code",
   "execution_count": 6,
   "metadata": {},
   "outputs": [
    {
     "name": "stdout",
     "output_type": "stream",
     "text": [
      "{'a': 1, 'd': 42}\n"
     ]
    }
   ],
   "source": [
    "def filter_integer(**kwargs):\n",
    "    return {key:value for key,value in kwargs.items() if isinstance(value,int)}\n",
    "result1=filter_integer(a=1, b=\"hello\",c=3.5,d=42)\n",
    "print(result1)"
   ]
  },
  {
   "cell_type": "code",
   "execution_count": 7,
   "metadata": {},
   "outputs": [
    {
     "name": "stdout",
     "output_type": "stream",
     "text": [
      "[1, 4, 9, 16, 25, 36, 49, 64, 81]\n"
     ]
    }
   ],
   "source": [
    "## call back function\n",
    "def apply(callback,numbers):\n",
    "    return  [ callback(i) for i in numbers]\n",
    "\n",
    "numbers=[1,2,3,4,5,6,7,8,9]\n",
    "def square(num):\n",
    "    return num**2\n",
    "final_list=apply(square,numbers)\n",
    "print(final_list)"
   ]
  },
  {
   "cell_type": "code",
   "execution_count": 8,
   "metadata": {},
   "outputs": [
    {
     "name": "stdout",
     "output_type": "stream",
     "text": [
      "625\n"
     ]
    }
   ],
   "source": [
    "def get_square():\n",
    "    return lambda x:x**2\n",
    "squarefin=get_square()\n",
    "print(squarefin(25))"
   ]
  },
  {
   "cell_type": "code",
   "execution_count": 13,
   "metadata": {},
   "outputs": [
    {
     "name": "stdout",
     "output_type": "stream",
     "text": [
      "Execution time: 0.016325 seconds\n",
      "4999950000\n"
     ]
    }
   ],
   "source": [
    "import time\n",
    "\n",
    "def timing_decorator(func):\n",
    "    def wrapper(*args, **kwargs):\n",
    "        start = time.time()\n",
    "        result = func(*args, **kwargs)\n",
    "        end = time.time()\n",
    "        print(f\"Execution time: {end - start:.6f} seconds\")\n",
    "        return result\n",
    "    return wrapper\n",
    "\n",
    "@timing_decorator\n",
    "def complex_calculation(n):\n",
    "    return sum(i **1 for i in range(n))\n",
    "\n",
    "# Test\n",
    "print(complex_calculation(100000))  # Execution time and result\n"
   ]
  },
  {
   "cell_type": "code",
   "execution_count": null,
   "metadata": {},
   "outputs": [],
   "source": []
  }
 ],
 "metadata": {
  "kernelspec": {
   "display_name": "Python 3",
   "language": "python",
   "name": "python3"
  },
  "language_info": {
   "codemirror_mode": {
    "name": "ipython",
    "version": 3
   },
   "file_extension": ".py",
   "mimetype": "text/x-python",
   "name": "python",
   "nbconvert_exporter": "python",
   "pygments_lexer": "ipython3",
   "version": "3.12.0"
  }
 },
 "nbformat": 4,
 "nbformat_minor": 2
}
