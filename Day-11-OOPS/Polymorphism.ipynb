{
 "cells": [
  {
   "cell_type": "markdown",
   "metadata": {},
   "source": [
    "### POLYMORPHISM"
   ]
  },
  {
   "cell_type": "code",
   "execution_count": 2,
   "metadata": {},
   "outputs": [
    {
     "name": "stdout",
     "output_type": "stream",
     "text": [
      "!!Woof!!! !!woof!!\n",
      "mew mew\n",
      "!!Woof!!! !!woof!!\n"
     ]
    }
   ],
   "source": [
    "### METHOD OVerERRIDING\n",
    "##BASE CLASS\n",
    "class Animal:\n",
    "    def speak(self):\n",
    "        return \"sound of the animal\"\n",
    "##derived class1\n",
    "class Dog(Animal):\n",
    "    def speak(self):\n",
    "        return \"!!Woof!!! !!woof!!\"\n",
    "\n",
    "##derived class2\n",
    "class Cat(Animal):\n",
    "    def speak(self):\n",
    "        return \"mew mew\"\n",
    "\n",
    "## fucntion that perform demostarttion\n",
    "def animal_speak(animal):\n",
    "    print(animal.speak())\n",
    "    \n",
    "\n",
    "dog1=Dog()\n",
    "cat1=Cat()\n",
    "print(dog1.speak())\n",
    "print(cat1.speak())\n",
    "animal_speak(dog1)\n"
   ]
  },
  {
   "cell_type": "code",
   "execution_count": 8,
   "metadata": {},
   "outputs": [
    {
     "name": "stdout",
     "output_type": "stream",
     "text": [
      "20\n",
      "28.259999999999998\n"
     ]
    }
   ],
   "source": [
    "## polymorphism with function and methods\n",
    "## base class\n",
    "class Shape:\n",
    "    def area(self):\n",
    "        return \"the area of the figure\"\n",
    "##derived class1\n",
    "class Rectangle(Shape):\n",
    "    def __init__(self,width,height):\n",
    "        self.width=width\n",
    "        self.height=height\n",
    "    \n",
    "    def area(self):\n",
    "        return self.width*self.height\n",
    "    \n",
    "## derrived class 2\n",
    "class Circle(Shape):\n",
    "    def __init__(self,radius):\n",
    "        self.radius=radius\n",
    "    def area(self):\n",
    "        return 3.14*self.radius*self.radius\n",
    "\n",
    "## function that demostarate poly\n",
    "def print_Area(shape):\n",
    "    print(shape.area())\n",
    "        \n",
    "rectangle1=Rectangle(4,5)\n",
    "circle1=Circle(3)\n",
    "print_Area(rectangle1)\n",
    "print_Area(circle1)\n",
    "\n",
    "        \n",
    "        \n",
    "        "
   ]
  },
  {
   "cell_type": "code",
   "execution_count": 9,
   "metadata": {},
   "outputs": [
    {
     "name": "stdout",
     "output_type": "stream",
     "text": [
      "<__main__.Car object at 0x000001D158510950>\n"
     ]
    }
   ],
   "source": [
    "##interfaces-->abstaract base class\n",
    "from abc import ABC,abstractmethod\n",
    "\n",
    "##Define\n",
    "class Vehicle(ABC):\n",
    "    @abstractmethod\n",
    "    def start_engine(self):\n",
    "        pass\n",
    "##derived class1\n",
    "class Car(Vehicle):\n",
    "    def start_engine(self):\n",
    "        return \"car enginer start\"\n",
    "    \n",
    "## derived class 2\n",
    "class Motor(Vehicle):\n",
    "    def start_engine(self):\n",
    "        return \"motor cycle engine started\"\n",
    "\n",
    "## create object of the car and motor cyce\n",
    "car=Car()\n",
    "Motorr=Motor()\n",
    "print(car)"
   ]
  },
  {
   "cell_type": "code",
   "execution_count": null,
   "metadata": {},
   "outputs": [],
   "source": []
  }
 ],
 "metadata": {
  "kernelspec": {
   "display_name": "Python 3",
   "language": "python",
   "name": "python3"
  },
  "language_info": {
   "codemirror_mode": {
    "name": "ipython",
    "version": 3
   },
   "file_extension": ".py",
   "mimetype": "text/x-python",
   "name": "python",
   "nbconvert_exporter": "python",
   "pygments_lexer": "ipython3",
   "version": "3.12.0"
  }
 },
 "nbformat": 4,
 "nbformat_minor": 2
}
