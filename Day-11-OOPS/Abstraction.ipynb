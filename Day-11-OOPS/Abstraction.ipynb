{
 "cells": [
  {
   "cell_type": "markdown",
   "metadata": {},
   "source": [
    "### ABSTRACTION"
   ]
  },
  {
   "cell_type": "code",
   "execution_count": 2,
   "metadata": {},
   "outputs": [
    {
     "name": "stdout",
     "output_type": "stream",
     "text": [
      "car engine started\n",
      "the vehicle is used for dirving\n"
     ]
    }
   ],
   "source": [
    "from abc import ABC,abstractmethod\n",
    "## abstract class\n",
    "class Vehicle(ABC):\n",
    "    def drive(self):\n",
    "        print(\"the vehicle is used for dirving\")\n",
    "    #define a abstract method\n",
    "    @abstractmethod\n",
    "    def start_engine(self):\n",
    "        pass\n",
    "class Car(Vehicle):\n",
    "    def start_engine(self):\n",
    "        print(\"car engine started\")\n",
    "        \n",
    "def operate_vehicle(Vehicle):\n",
    "    Vehicle.start_engine()\n",
    "    Vehicle.drive()\n",
    "car=Car()\n",
    "operate_vehicle(car)"
   ]
  },
  {
   "cell_type": "code",
   "execution_count": null,
   "metadata": {},
   "outputs": [],
   "source": []
  }
 ],
 "metadata": {
  "kernelspec": {
   "display_name": "Python 3",
   "language": "python",
   "name": "python3"
  },
  "language_info": {
   "codemirror_mode": {
    "name": "ipython",
    "version": 3
   },
   "file_extension": ".py",
   "mimetype": "text/x-python",
   "name": "python",
   "nbconvert_exporter": "python",
   "pygments_lexer": "ipython3",
   "version": "3.12.0"
  }
 },
 "nbformat": 4,
 "nbformat_minor": 2
}
