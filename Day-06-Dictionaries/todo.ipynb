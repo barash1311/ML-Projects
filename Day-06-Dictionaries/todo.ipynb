{
 "cells": [
  {
   "cell_type": "code",
   "execution_count": 3,
   "metadata": {},
   "outputs": [
    {
     "name": "stdout",
     "output_type": "stream",
     "text": [
      "dont forget to pay the utility bills\n",
      "-buygrpceries\n",
      "-paybills\n",
      "-schedude the meeting\n",
      "-go for the run\n"
     ]
    }
   ],
   "source": [
    "todo=[\"buygrpceries\",\"clean the house\",\"paybills\"]\n",
    "## adding to the list\n",
    "todo.append(\"schedude the meeting\")\n",
    "todo.append(\"go for the run\")\n",
    "\n",
    "## removing the task\n",
    "todo.remove(\"clean the house\")\n",
    "\n",
    "## checkig the task\n",
    "if \"paybills\" in todo:\n",
    "    print(\"dont forget to pay the utility bills\") \n",
    "for task in todo:\n",
    "    print(f\"-{task}\")"
   ]
  },
  {
   "cell_type": "code",
   "execution_count": null,
   "metadata": {},
   "outputs": [],
   "source": []
  }
 ],
 "metadata": {
  "kernelspec": {
   "display_name": "Python 3",
   "language": "python",
   "name": "python3"
  },
  "language_info": {
   "codemirror_mode": {
    "name": "ipython",
    "version": 3
   },
   "file_extension": ".py",
   "mimetype": "text/x-python",
   "name": "python",
   "nbconvert_exporter": "python",
   "pygments_lexer": "ipython3",
   "version": "3.12.0"
  }
 },
 "nbformat": 4,
 "nbformat_minor": 2
}
