{
 "cells": [
  {
   "cell_type": "markdown",
   "metadata": {},
   "source": [
    "### Filter function"
   ]
  },
  {
   "cell_type": "code",
   "execution_count": 1,
   "metadata": {},
   "outputs": [
    {
     "data": {
      "text/plain": [
       "'the filter function constructs an iterator from elemetns of an iterable for which a function return true.it is used to filter out items from a list (or any other iterable ) based on the condition'"
      ]
     },
     "execution_count": 1,
     "metadata": {},
     "output_type": "execute_result"
    }
   ],
   "source": [
    "'''the filter function constructs an iterator from elemetns of an iterable for which a function return true.it is used to filter out items from a list (or any other iterable ) based on the condition'''"
   ]
  },
  {
   "cell_type": "code",
   "execution_count": 23,
   "metadata": {},
   "outputs": [],
   "source": [
    "def even(num):\n",
    "    if num%2==0:\n",
    "        return num\n"
   ]
  },
  {
   "cell_type": "code",
   "execution_count": 15,
   "metadata": {},
   "outputs": [],
   "source": [
    "even(23)"
   ]
  },
  {
   "cell_type": "code",
   "execution_count": 1,
   "metadata": {},
   "outputs": [
    {
     "name": "stdout",
     "output_type": "stream",
     "text": [
      "[6, 7, 8, 9, 10]\n"
     ]
    }
   ],
   "source": [
    "lis=[1,2,3,4,5,6,7,8,9,10]\n",
    "final_list=list(filter(lambda x:x>5,lis))\n",
    "print(final_list)\n"
   ]
  },
  {
   "cell_type": "code",
   "execution_count": 4,
   "metadata": {},
   "outputs": [
    {
     "name": "stdout",
     "output_type": "stream",
     "text": [
      "[6, 8]\n"
     ]
    }
   ],
   "source": [
    "# filter with muliptle conditom\n",
    "numbers=[1,2,3,4,5,6,7,8,9]\n",
    "even_and_greater_than5=list(filter(lambda x:x>5 and x%2==0,numbers))\n",
    "print(even_and_greater_than5)"
   ]
  },
  {
   "cell_type": "code",
   "execution_count": 5,
   "metadata": {},
   "outputs": [
    {
     "data": {
      "text/plain": [
       "[{'name': 'akshat', 'age': 55}, {'name': 'shivang', 'age': 45}]"
      ]
     },
     "execution_count": 5,
     "metadata": {},
     "output_type": "execute_result"
    }
   ],
   "source": [
    "## apply filter to check if the age is greater than 25 in dictionary\n",
    "people=[\n",
    "    {\"name\":\"barsah\",\"age\":25},\n",
    "    {\"name\":\"sharma\",\"age\":15},\n",
    "    {\"name\":\"akshat\",\"age\":55},\n",
    "    {\"name\":\"shivang\",\"age\":45},\n",
    "]\n",
    "def age_grater_than_25(person):\n",
    "    return person[\"age\"]>25\n",
    "\n",
    "list(filter(age_grater_than_25,people))"
   ]
  },
  {
   "cell_type": "code",
   "execution_count": null,
   "metadata": {},
   "outputs": [],
   "source": []
  }
 ],
 "metadata": {
  "kernelspec": {
   "display_name": "Python 3",
   "language": "python",
   "name": "python3"
  },
  "language_info": {
   "codemirror_mode": {
    "name": "ipython",
    "version": 3
   },
   "file_extension": ".py",
   "mimetype": "text/x-python",
   "name": "python",
   "nbconvert_exporter": "python",
   "pygments_lexer": "ipython3",
   "version": "3.8.10"
  }
 },
 "nbformat": 4,
 "nbformat_minor": 2
}
