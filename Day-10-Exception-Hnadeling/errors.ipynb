{
 "cells": [
  {
   "cell_type": "markdown",
   "metadata": {},
   "source": [
    "### exceptions"
   ]
  },
  {
   "cell_type": "code",
   "execution_count": 4,
   "metadata": {},
   "outputs": [
    {
     "name": "stdout",
     "output_type": "stream",
     "text": [
      "name 'b' is not defined\n"
     ]
    }
   ],
   "source": [
    "## exception handeling tryxexcep\n",
    "try:\n",
    "    a=b\n",
    "except NameError as ex:\n",
    "    print(ex)\n",
    "    \n"
   ]
  },
  {
   "cell_type": "code",
   "execution_count": 3,
   "metadata": {},
   "outputs": [
    {
     "ename": "NameError",
     "evalue": "name 'b' is not defined",
     "output_type": "error",
     "traceback": [
      "\u001b[1;31m---------------------------------------------------------------------------\u001b[0m",
      "\u001b[1;31mNameError\u001b[0m                                 Traceback (most recent call last)",
      "Cell \u001b[1;32mIn[3], line 1\u001b[0m\n\u001b[1;32m----> 1\u001b[0m a\u001b[38;5;241m=\u001b[39m\u001b[43mb\u001b[49m\n",
      "\u001b[1;31mNameError\u001b[0m: name 'b' is not defined"
     ]
    }
   ],
   "source": [
    "a=b"
   ]
  },
  {
   "cell_type": "code",
   "execution_count": null,
   "metadata": {},
   "outputs": [
    {
     "name": "stdout",
     "output_type": "stream",
     "text": [
      "division by zero\n",
      "please enter denominator greater than 0\n"
     ]
    }
   ],
   "source": [
    "try:\n",
    "    result=1/0\n",
    "    \n",
    "except ZeroDivisionError as ex:\n",
    "    print(ex)\n",
    "    print(\"please enter denominator greater than 0\")\n"
   ]
  },
  {
   "cell_type": "code",
   "execution_count": 13,
   "metadata": {},
   "outputs": [
    {
     "name": "stdout",
     "output_type": "stream",
     "text": [
      "name 'b' is not defined\n",
      "Main exception got caught here\n"
     ]
    }
   ],
   "source": [
    "try:\n",
    "    result=1/2\n",
    "    a=b\n",
    "    \n",
    "except ZeroDivisionError as ex:\n",
    "    print(ex)\n",
    "    print(\"please enter denominator greater than 0\")\n",
    "except Exception as ex1:\n",
    "    print(ex1)\n",
    "    print(\"Main exception got caught here\")\n"
   ]
  },
  {
   "cell_type": "code",
   "execution_count": 17,
   "metadata": {},
   "outputs": [
    {
     "name": "stdout",
     "output_type": "stream",
     "text": [
      "this is not a valid number\n"
     ]
    }
   ],
   "source": [
    "try:\n",
    "    num=int(input(\"enter a number:\"))\n",
    "    result=10/num\n",
    "except ValueError:\n",
    "    print(\"this is not a valid number\")\n",
    "except ZeroDivisionError:\n",
    "    print(\"you cant enter numeber less that or equal to zero\")"
   ]
  },
  {
   "cell_type": "code",
   "execution_count": 19,
   "metadata": {},
   "outputs": [
    {
     "name": "stdout",
     "output_type": "stream",
     "text": [
      "divide by zero is not possible\n"
     ]
    }
   ],
   "source": [
    "try:\n",
    "    num=int(input(\"enter a number:\"))\n",
    "    result=10/num\n",
    "except ValueError:\n",
    "    print(\"this is not a valid number\")\n",
    "except ZeroDivisionError:\n",
    "    print(\"divide by zero is not possible\")\n",
    "except Exception as ex:\n",
    "    print(ex)\n",
    "else:\n",
    "    print(f\"the result is {result}\")"
   ]
  },
  {
   "cell_type": "code",
   "execution_count": 20,
   "metadata": {},
   "outputs": [
    {
     "name": "stdout",
     "output_type": "stream",
     "text": [
      "the result is 0.07575757575757576\n",
      "execution xompleted\n"
     ]
    }
   ],
   "source": [
    "## try,except,else,finally\n",
    "try:\n",
    "    num=int(input(\"enter a number:\"))\n",
    "    result=10/num\n",
    "except ValueError:\n",
    "    print(\"this is not a valid number\")\n",
    "except ZeroDivisionError:\n",
    "    print(\"divide by zero is not possible\")\n",
    "except Exception as ex:\n",
    "    print(ex)\n",
    "else:\n",
    "    print(f\"the result is {result}\")\n",
    "finally:\n",
    "    print(\"execution xompleted\")\n"
   ]
  },
  {
   "cell_type": "code",
   "execution_count": 26,
   "metadata": {},
   "outputs": [
    {
     "name": "stdout",
     "output_type": "stream",
     "text": [
      "name 'b' is not defined\n",
      "file close\n"
     ]
    }
   ],
   "source": [
    "## file handeling\n",
    "try:\n",
    "    file=open(\"example.txt\",\"r\")\n",
    "    contnent=file.read()\n",
    "    a=b\n",
    "    print(contnent)\n",
    "except FileNotFoundError:\n",
    "    print(\"file doesnt exist\")\n",
    "except Exception as ex:\n",
    "    print(ex)\n",
    "else:\n",
    "    print(contnent)\n",
    "finally:\n",
    "    if \"file\" in locals() or not file.closed():\n",
    "        file.close()\n",
    "        print(\"file close\")"
   ]
  },
  {
   "cell_type": "code",
   "execution_count": null,
   "metadata": {},
   "outputs": [],
   "source": []
  }
 ],
 "metadata": {
  "kernelspec": {
   "display_name": "Python 3",
   "language": "python",
   "name": "python3"
  },
  "language_info": {
   "codemirror_mode": {
    "name": "ipython",
    "version": 3
   },
   "file_extension": ".py",
   "mimetype": "text/x-python",
   "name": "python",
   "nbconvert_exporter": "python",
   "pygments_lexer": "ipython3",
   "version": "3.12.0"
  }
 },
 "nbformat": 4,
 "nbformat_minor": 2
}
